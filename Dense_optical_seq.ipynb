{
 "cells": [
  {
   "cell_type": "code",
   "execution_count": 16,
   "metadata": {},
   "outputs": [
    {
     "name": "stdout",
     "output_type": "stream",
     "text": [
      "Populating the interactive namespace from numpy and matplotlib\n"
     ]
    }
   ],
   "source": [
    "import os, cv2, matplotlib as plt, numpy as np, pandas as pd,csv,glob\n",
    "%pylab inline\n",
    "import matplotlib.pyplot as plt\n",
    "import matplotlib.image as mpimg"
   ]
  },
  {
   "cell_type": "code",
   "execution_count": 17,
   "metadata": {},
   "outputs": [],
   "source": [
    "df1 = pd.read_excel(r'D:\\Masters project\\Casme2\\CASME2-coding-20190701.xlsx',converters={'Subject': lambda x: str(x),'Filename': lambda x: str(x)},header=None)"
   ]
  },
  {
   "cell_type": "code",
   "execution_count": 18,
   "metadata": {},
   "outputs": [
    {
     "data": {
      "text/html": [
       "<div>\n",
       "<style scoped>\n",
       "    .dataframe tbody tr th:only-of-type {\n",
       "        vertical-align: middle;\n",
       "    }\n",
       "\n",
       "    .dataframe tbody tr th {\n",
       "        vertical-align: top;\n",
       "    }\n",
       "\n",
       "    .dataframe thead th {\n",
       "        text-align: right;\n",
       "    }\n",
       "</style>\n",
       "<table border=\"1\" class=\"dataframe\">\n",
       "  <thead>\n",
       "    <tr style=\"text-align: right;\">\n",
       "      <th></th>\n",
       "      <th>0</th>\n",
       "      <th>1</th>\n",
       "      <th>2</th>\n",
       "      <th>3</th>\n",
       "      <th>4</th>\n",
       "      <th>5</th>\n",
       "      <th>6</th>\n",
       "      <th>7</th>\n",
       "      <th>8</th>\n",
       "    </tr>\n",
       "  </thead>\n",
       "  <tbody>\n",
       "    <tr>\n",
       "      <td>1</td>\n",
       "      <td>01</td>\n",
       "      <td>EP02_01f</td>\n",
       "      <td>NaN</td>\n",
       "      <td>46</td>\n",
       "      <td>59</td>\n",
       "      <td>86</td>\n",
       "      <td>NaN</td>\n",
       "      <td>12</td>\n",
       "      <td>happiness</td>\n",
       "    </tr>\n",
       "    <tr>\n",
       "      <td>2</td>\n",
       "      <td>01</td>\n",
       "      <td>EP03_02</td>\n",
       "      <td>NaN</td>\n",
       "      <td>131</td>\n",
       "      <td>139</td>\n",
       "      <td>161</td>\n",
       "      <td>NaN</td>\n",
       "      <td>18</td>\n",
       "      <td>others</td>\n",
       "    </tr>\n",
       "    <tr>\n",
       "      <td>3</td>\n",
       "      <td>01</td>\n",
       "      <td>EP04_02</td>\n",
       "      <td>NaN</td>\n",
       "      <td>21</td>\n",
       "      <td>54</td>\n",
       "      <td>76</td>\n",
       "      <td>NaN</td>\n",
       "      <td>4</td>\n",
       "      <td>others</td>\n",
       "    </tr>\n",
       "    <tr>\n",
       "      <td>4</td>\n",
       "      <td>01</td>\n",
       "      <td>EP04_03</td>\n",
       "      <td>NaN</td>\n",
       "      <td>31</td>\n",
       "      <td>41</td>\n",
       "      <td>56</td>\n",
       "      <td>NaN</td>\n",
       "      <td>4</td>\n",
       "      <td>others</td>\n",
       "    </tr>\n",
       "    <tr>\n",
       "      <td>5</td>\n",
       "      <td>01</td>\n",
       "      <td>EP04_04</td>\n",
       "      <td>NaN</td>\n",
       "      <td>23</td>\n",
       "      <td>49</td>\n",
       "      <td>66</td>\n",
       "      <td>NaN</td>\n",
       "      <td>4</td>\n",
       "      <td>others</td>\n",
       "    </tr>\n",
       "  </tbody>\n",
       "</table>\n",
       "</div>"
      ],
      "text/plain": [
       "    0         1   2    3    4    5   6   7          8\n",
       "1  01  EP02_01f NaN   46   59   86 NaN  12  happiness\n",
       "2  01   EP03_02 NaN  131  139  161 NaN  18     others\n",
       "3  01   EP04_02 NaN   21   54   76 NaN   4     others\n",
       "4  01   EP04_03 NaN   31   41   56 NaN   4     others\n",
       "5  01   EP04_04 NaN   23   49   66 NaN   4     others"
      ]
     },
     "execution_count": 18,
     "metadata": {},
     "output_type": "execute_result"
    }
   ],
   "source": [
    "#subjects array\n",
    "df=df1.drop(0)\n",
    "#print(df[0].unique())\n",
    "\n",
    "subjects=df[0].unique()\n",
    "\n",
    "df.head()\n",
    "#print(subjects)"
   ]
  },
  {
   "cell_type": "code",
   "execution_count": 23,
   "metadata": {},
   "outputs": [
    {
     "data": {
      "text/plain": [
       "'D:/Masters project/Casme2/CASME2_RAW_selected/CASME2_RAW_selected/sub26/EP18_51/img'"
      ]
     },
     "execution_count": 23,
     "metadata": {},
     "output_type": "execute_result"
    }
   ],
   "source": [
    "temppath=\"D:\\Masters project\\Casme2\\CASME2_RAW_selected\\CASME2_RAW_selected\\\\\"\n",
    "new_path='D:\\Masters project\\DenseSeq'\n",
    "emotionp=[]*len(df[1])\n",
    "dof=[]\n",
    "for i in range(len(df[1])):\n",
    "    emotionp.append(temppath+'sub'+df.iloc[i,0]+'\\\\'+df.iloc[i,1]+'/'+'img')\n",
    "    emotionp[i]=(emotionp[i].replace(\"\\\\\", \"/\"))\n",
    "    dof.append(new_path+'\\\\'+'sub'+df.iloc[i,0]+'\\\\'+df.iloc[i,1])\n",
    "    dof[i]=(dof[i].replace(\"\\\\\", \"/\")) \n",
    "    \n",
    "emotionp[i]\n",
    "#dof[i]"
   ]
  },
  {
   "cell_type": "code",
   "execution_count": 24,
   "metadata": {},
   "outputs": [],
   "source": [
    "pathd=[]"
   ]
  },
  {
   "cell_type": "code",
   "execution_count": 25,
   "metadata": {},
   "outputs": [],
   "source": [
    "for i in range(len(emotionp)):\n",
    "    pathff=[]\n",
    "    files=glob.glob(emotionp[i]+'*.jpg')\n",
    "    last=max(files,key=os.path.getctime)\n",
    "    #print(last)\n",
    "    for file in files:\n",
    "        pathff.append(file)\n",
    "        file=file.replace(\"\\\\\", \"/\")\n",
    "        #print(file)\n",
    "    \n",
    "    pathd.append(pathff)\n",
    "\n",
    "#pathd[1]"
   ]
  },
  {
   "cell_type": "code",
   "execution_count": 26,
   "metadata": {},
   "outputs": [],
   "source": [
    "subjects, counts = np.unique(df[0].values,return_counts=True)"
   ]
  },
  {
   "cell_type": "code",
   "execution_count": 39,
   "metadata": {},
   "outputs": [],
   "source": [
    "subpath=np.empty(len(subjects),dtype = 'object')\n",
    "k=0\n",
    "for i in range(len(subjects)):\n",
    "    subpath[i]=(new_path+'\\\\'+'sub'+subjects[k]+'\\\\')\n",
    "    #subpath[i]=(subpath[i]+df1.loc[i+1,1])\n",
    "    subpath[i]=(subpath[i].replace(\"\\\\\", \"/\"))\n",
    "    os.mkdir(subpath[i])\n",
    "    k=k+1\n",
    "        \n"
   ]
  },
  {
   "cell_type": "code",
   "execution_count": 40,
   "metadata": {},
   "outputs": [],
   "source": [
    "for i in range(len(dof)):\n",
    "    dir=dof[i]\n",
    "    os.mkdir(dir)"
   ]
  },
  {
   "cell_type": "code",
   "execution_count": 41,
   "metadata": {},
   "outputs": [],
   "source": [
    "#img_arr=[]\n",
    "s=0\n",
    "for i in range(len(pathd)):\n",
    "    #img=[]\n",
    "    first_frame=cv2.imread(pathd[i][0])\n",
    "    prev_gray = cv2.cvtColor(first_frame, cv2.COLOR_BGR2GRAY)\n",
    "    mask = np.zeros_like(first_frame)\n",
    "    mask[..., 1] = 255\n",
    "    t=s\n",
    "    for j in range(1,len(pathd[i])):\n",
    "        name=str(t)+'.jpg'\n",
    "        #first_frame=cv2.imread(pathd[i][0])\n",
    "        #prev_gray = cv2.cvtColor(first_frame, cv2.COLOR_BGR2GRAY)\n",
    "        #mask = np.zeros_like(first_frame)\n",
    "        #mask[..., 1] = 255\n",
    "        new_frame=cv2.imread(pathd[i][j])\n",
    "        next_gray = cv2.cvtColor(new_frame,cv2.COLOR_BGR2GRAY)\n",
    "        flow = cv2.calcOpticalFlowFarneback(prev_gray,next_gray, None, 0.5, 3, 45, 3, 5, 1.2, 0)\n",
    "        mag, ang = cv2.cartToPolar(flow[...,0], flow[...,1])\n",
    "        mask[..., 0] = ang * 180 / np.pi / 2\n",
    "        mask[..., 2] = cv2.normalize(mag, None, 0, 255, cv2.NORM_MINMAX)\n",
    "        bgr = cv2.cvtColor(mask,cv2.COLOR_HSV2BGR)\n",
    "        path=dof[i]\n",
    "        t=t+1\n",
    "        cv2.imwrite(os.path.join(path , name), bgr)\n",
    "        prev_gray=next_gray.copy()\n",
    "        #img.append(bgr)\n",
    "    #img_arr.append(img)\n",
    "        \n",
    "        \n",
    "        \n",
    "        \n",
    "        \n",
    "        \n",
    "        \n",
    "        "
   ]
  },
  {
   "cell_type": "code",
   "execution_count": null,
   "metadata": {},
   "outputs": [],
   "source": []
  },
  {
   "cell_type": "code",
   "execution_count": null,
   "metadata": {},
   "outputs": [],
   "source": []
  }
 ],
 "metadata": {
  "kernelspec": {
   "display_name": "Python 3",
   "language": "python",
   "name": "python3"
  },
  "language_info": {
   "codemirror_mode": {
    "name": "ipython",
    "version": 3
   },
   "file_extension": ".py",
   "mimetype": "text/x-python",
   "name": "python",
   "nbconvert_exporter": "python",
   "pygments_lexer": "ipython3",
   "version": "3.7.4"
  }
 },
 "nbformat": 4,
 "nbformat_minor": 2
}
